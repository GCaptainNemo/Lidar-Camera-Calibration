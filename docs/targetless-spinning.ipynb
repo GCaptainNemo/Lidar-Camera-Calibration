{
 "cells": [
  {
   "cell_type": "markdown",
   "metadata": {},
   "source": [
    "# 机械式激光雷达的无标定物标定算法"
   ]
  },
  {
   "cell_type": "markdown",
   "metadata": {},
   "source": [
    "## 一、机器人手眼标定\n",
    "现在的机器人少不了有各种传感器，传感器之间的标定是机器人感知环境的一个重要前提。手眼标定的核心公式只有一个\n",
    "$$AX=XB$$\n",
    "这里的$X$就是指手（机械臂末端）与眼（摄像头）之间的坐标转换关系。下面结合机械臂的两种使用场景，讲一下这个公式的由来。\n",
    "\n",
    "### 1.1 Eye-in-Hand\n",
    "所谓Eye-In-Hand，是指摄像头被安装在机械臂上。此时要求End到Camera之间的坐标转换关系，即\n",
    "$$X=T_{E\\rightarrow C}$$\n",
    "<p align=\"center\"><img src=\"../resources/spin-target/eye-in-hand.jpg\" width=50%></p>\n",
    "\n",
    "**注意：**$T_{A\\rightarrow B}$即传感器B相对于传感器A的外参，$X_A = T_{A\\rightarrow B}X_B$将传感器B下的坐标转换到传感器A下坐标。\n",
    "\n",
    "这种情况下，有两个变量是不变的：\n",
    "* 摄像头与机械臂末端之间的坐标转换关系不变，也就是说，$T_{E\\rightarrow C}$始终不变；\n",
    "* 标定板与机械臂底座之间的坐标转换关系不变，也就是说，$T_{B\\rightarrow O}$ 也是不变的。\n",
    "\n",
    "将前后两帧的$T_{B\\rightarrow O}$展开，得到\n",
    "$$T_{B\\rightarrow O} = T_{B\\rightarrow E_1} * T_{E_1\\rightarrow C_1} * T_{C_1\\rightarrow O} = T_{B\\rightarrow E_2} * T_{E_2\\rightarrow C_2} * T_{C_2\\rightarrow O} $$\n",
    "$$T_{E_2\\rightarrow E_1} * T_{E_1\\rightarrow C_1} =  T_{E_2\\rightarrow C_2} * T_{C_2\\rightarrow C_1} $$\n",
    "令$A:= T_{E_2\\rightarrow E_1} \\quad X:= T_{E\\rightarrow C} \\quad B:= T_{C_2\\rightarrow C_1}$\n",
    "$A, B$已知，$X$未知，即转为求解$AX=XB$线性方程组。\n",
    "\n",
    "### 1.2 Eye-to-Hand\n",
    "所谓Eye-To-Hand，是指摄像头被安装在一个固定不动的位置，而标定板被拿在机械臂手上。此时要求取的是，Base到Camera之间的坐标转换关系，也就是 $T_{B\\rightarrow C}$。这种情况下，有两个变量是不变的：\n",
    "<p align=\"center\"><img src=\"../resources/spin-target/eye-to-hand.jpg\" width=50%></p>\n",
    "\n",
    "* 摄像头与机械臂底座之间的坐标转换关系不变，也就是说， $T_{B\\rightarrow C}$始终不变；\n",
    "* 标定板与机械臂末端之间的坐标转换关系不变，也就是说， $T_{E\\rightarrow O}$始终不变。\n",
    "把$T_{E\\rightarrow O}$展开\n",
    "$$T_{E\\rightarrow O} = T_{E_1\\rightarrow B} * T_{B\\rightarrow C} * T_{C\\rightarrow O_1} = T_{E_2\\rightarrow B} * T_{B\\rightarrow C} * T_{C\\rightarrow O_2} $$\n",
    "令$A:= (T_{E_2\\rightarrow B})^{-1} * T_{E_1\\rightarrow B} \\quad X:= T_{B\\rightarrow C} \\quad B:= T_{C\\rightarrow O_2}* (T_{C\\rightarrow O_1})^{-1}$\n",
    "$A, B$已知，$X$未知，即转为求解$AX=XB$线性方程组。"
   ]
  },
  {
   "cell_type": "markdown",
   "metadata": {},
   "source": [
    "\n",
    "## 一、文献[2]\n",
    "\n",
    "\n"
   ]
  },
  {
   "cell_type": "code",
   "execution_count": null,
   "metadata": {},
   "outputs": [],
   "source": []
  },
  {
   "cell_type": "code",
   "execution_count": null,
   "metadata": {},
   "outputs": [],
   "source": []
  },
  {
   "cell_type": "markdown",
   "metadata": {},
   "source": [
    "## 参考资料\n",
    "[1] [机器人手眼标定](https://zhuanlan.zhihu.com/p/103749589)\n",
    "\n",
    "[2] [知乎-多传感器标定](https://zhuanlan.zhihu.com/p/57028341)\n",
    "\n",
    "[3] [Automatic Online Calibration of Cameras and Lasers](http://roboticsproceedings.org/rss09/p29.pdf)"
   ]
  }
 ],
 "metadata": {
  "kernelspec": {
   "display_name": "Python 3",
   "language": "python",
   "name": "python3"
  },
  "language_info": {
   "codemirror_mode": {
    "name": "ipython",
    "version": 3
   },
   "file_extension": ".py",
   "mimetype": "text/x-python",
   "name": "python",
   "nbconvert_exporter": "python",
   "pygments_lexer": "ipython3",
   "version": "3.6.9"
  }
 },
 "nbformat": 4,
 "nbformat_minor": 2
}
