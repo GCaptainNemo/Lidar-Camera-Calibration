{
 "cells": [
  {
   "cell_type": "markdown",
   "metadata": {},
   "source": [
    "# 激光雷达与可见光相机配准"
   ]
  },
  {
   "cell_type": "markdown",
   "metadata": {},
   "source": [
    "## 介绍\n",
    "在激光雷达和可见光相机配准任务中，可见光相机的内参、畸变系数是已知的(通过张正友标定法)，因此问题的难点是激光雷达与可见光相机外参的标定。\n",
    "除了本次实验采用的通过手动提取特征点的2D-3D的PnP算法外，还有一些自动化的外参标定算法。\n",
    "\n",
    "### 文献1\n",
    "在文献[1]中研究的是Velodyne机械式激光雷达和可见光相机的外参标定方法，由于机械式激光雷达具有水平扫描的特性，因此采用将标定板倾斜悬挂的方式，保证点云在每一条边上均有采样点。\n",
    "\n",
    "<p align=\"center\">\n",
    "    <img src=\"../resources/paper/paper1_board.png\" width=30%>\n",
    "</p>\n",
    "\n",
    "在获得每一条边的采样点后，通过直线拟合可以获得相邻边采样点构成的直线，进而得到标定板的角点(比手动在点云上提取要精确得多)。接着该论文探究了2D-3D配准的问题，指出在图像上手动提取特征点的方式不精确会导致重投影误差增大。\n",
    "\n",
    "\n",
    "<p align=\"center\">\n",
    "    <img src=\"../resources/paper/paper1_board2.png\" width=30%>\n",
    "</p>\n",
    "\n",
    "因此该文献采用在标定板上再贴上2维汉明码(ArUco markers)，由于标记可以对相机提供稳健的特征，并且知道其尺寸信息，因此类似棋盘格标定板计算出标记相对相机的外参，获得标记的3D坐标。因此把激光雷达-可见光相机配准问题转化成了一个3D-3D的配准问题，可以通过ICP算法的闭式解求解外参。 "
   ]
  },
  {
   "cell_type": "markdown",
   "metadata": {},
   "source": [
    "## 参考文献\n",
    "[1] Dhall A , Chelani K , Radhakrishnan V , et al. LiDAR-Camera Calibration using 3D-3D Point correspondences[J]. 2017."
   ]
  }
 ],
 "metadata": {
  "kernelspec": {
   "display_name": "Python 3",
   "language": "python",
   "name": "python3"
  },
  "language_info": {
   "codemirror_mode": {
    "name": "ipython",
    "version": 3
   },
   "file_extension": ".py",
   "mimetype": "text/x-python",
   "name": "python",
   "nbconvert_exporter": "python",
   "pygments_lexer": "ipython3",
   "version": "3.6.9"
  }
 },
 "nbformat": 4,
 "nbformat_minor": 2
}
